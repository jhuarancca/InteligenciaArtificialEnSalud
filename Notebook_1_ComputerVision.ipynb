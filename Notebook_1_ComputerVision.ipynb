{
  "nbformat": 4,
  "nbformat_minor": 0,
  "metadata": {
    "colab": {
      "provenance": [],
      "gpuType": "T4",
      "include_colab_link": true
    },
    "kernelspec": {
      "name": "python3",
      "display_name": "Python 3"
    },
    "language_info": {
      "name": "python"
    },
    "accelerator": "GPU"
  },
  "cells": [
    {
      "cell_type": "markdown",
      "metadata": {
        "id": "view-in-github",
        "colab_type": "text"
      },
      "source": [
        "<a href=\"https://colab.research.google.com/github/jhuarancca/InteligenciaArtificialEnSalud/blob/main/Notebook_1_ComputerVision.ipynb\" target=\"_parent\"><img src=\"https://colab.research.google.com/assets/colab-badge.svg\" alt=\"Open In Colab\"/></a>"
      ]
    },
    {
      "cell_type": "markdown",
      "source": [
        "\n",
        "<img src=\"https://cloud.screenpresso.com/BiF4bZJT2saz/2024-10-03_06h25_42_original.png?_gl=1*1p2hf0x*_ga*OTY3NTc2Mjc4LjE3Mjc5Mjk1ODc.*_ga_Y5Z2778Y7J*MTcyNzkyOTU4Ny4xLjAuMTcyNzkyOTU4Ny4wLjAuMA..\" width=\"2400\">\n",
        "\n",
        "\n",
        "# **Notebook 1: Introducción a Machine Learning y Redes Neuronales Artificiales (ANN)**"
      ],
      "metadata": {
        "id": "GoS-f1PZcEFN"
      }
    },
    {
      "cell_type": "markdown",
      "source": [
        "## **1. Introducción a Machine Learning**\n",
        "\n"
      ],
      "metadata": {
        "id": "JoZ5cbUicLOD"
      }
    },
    {
      "cell_type": "markdown",
      "source": [
        "### **1.1. Definición de Machine Learning**\n",
        "El **Machine Learning** (ML) permite a las máquinas aprender a partir de datos y hacer predicciones. Los modelos de ML se entrenan con datos históricos para predecir nuevos datos.\n",
        "\n",
        "- **Supervisado**: El modelo aprende de datos etiquetados.\n",
        "- **No Supervisado**: El modelo busca patrones en datos no etiquetados.\n",
        "- **Refuerzo**: El modelo aprende mediante recompensas y penalizaciones."
      ],
      "metadata": {
        "id": "g8VSc7xycMzY"
      }
    },
    {
      "cell_type": "markdown",
      "source": [
        "### **1.2. Redes Neuronales en Machine Learning**\n",
        "Las **redes neuronales artificiales (ANN)** son modelos poderosos inspirados en el cerebro humano, que son particularmente útiles en problemas como reconocimiento de imágenes y procesamiento de lenguaje.\n"
      ],
      "metadata": {
        "id": "e255upUfcPY_"
      }
    },
    {
      "cell_type": "markdown",
      "source": [
        "## **2. Tensores y Operaciones Básicas**\n"
      ],
      "metadata": {
        "id": "pHTx5XdocXhQ"
      }
    },
    {
      "cell_type": "markdown",
      "source": [
        "### **2.1. ¿Qué es un Tensor?**\n",
        "Un **tensor** es una estructura de datos que puede representar un número, un vector, una matriz o una estructura de mayor dimensión, ideal para modelar datos en redes neuronales.\n"
      ],
      "metadata": {
        "id": "MJSbda4bcZOW"
      }
    },
    {
      "cell_type": "code",
      "source": [
        "import tensorflow as tf\n",
        "\n",
        "# Crear tensores\n",
        "tensor_esc = tf.constant(42)  # Escalar\n",
        "tensor_vec = tf.constant([1, 2, 3])  # Vector\n",
        "tensor_mat = tf.constant([[1, 2], [3, 4]])  # Matriz\n",
        "\n",
        "print(\"Escalar:\", tensor_esc.numpy())\n",
        "print(\"Vector:\", tensor_vec.numpy())\n",
        "print(\"Matriz:\\n\", tensor_mat.numpy())"
      ],
      "metadata": {
        "colab": {
          "base_uri": "https://localhost:8080/"
        },
        "id": "sz6i4M11cdh_",
        "outputId": "b0faa4e0-0d0d-4a62-e214-c13941e59291"
      },
      "execution_count": null,
      "outputs": [
        {
          "output_type": "stream",
          "name": "stdout",
          "text": [
            "Escalar: 42\n",
            "Vector: [1 2 3]\n",
            "Matriz:\n",
            " [[1 2]\n",
            " [3 4]]\n"
          ]
        }
      ]
    },
    {
      "cell_type": "markdown",
      "source": [
        "\n",
        "### **2.2. Operaciones con Tensores**\n",
        "Las operaciones con tensores son fundamentales en redes neuronales, ya que permiten realizar cálculos eficientes."
      ],
      "metadata": {
        "id": "xmSWF4ALcchK"
      }
    },
    {
      "cell_type": "code",
      "source": [
        "# Operaciones básicas con tensores\n",
        "tensor_sum = tf.add(tensor_vec, tensor_vec)\n",
        "tensor_prod = tf.matmul(tensor_mat, tensor_mat)\n",
        "\n",
        "print(\"Suma de tensores:\", tensor_sum.numpy())\n",
        "print(\"Producto punto entre matrices:\\n\", tensor_prod.numpy())"
      ],
      "metadata": {
        "colab": {
          "base_uri": "https://localhost:8080/"
        },
        "id": "L1-gogcecvKx",
        "outputId": "700749bc-1169-466a-80b9-4b7ec5e41b54"
      },
      "execution_count": null,
      "outputs": [
        {
          "output_type": "stream",
          "name": "stdout",
          "text": [
            "Suma de tensores: [2 4 6]\n",
            "Producto punto entre matrices:\n",
            " [[ 7 10]\n",
            " [15 22]]\n"
          ]
        }
      ]
    },
    {
      "cell_type": "markdown",
      "source": [
        "### **2.3. Manejo de Datasets con TensorFlow**\n",
        "Para grandes volúmenes de datos, TensorFlow proporciona la API `tf.data` que permite manejar datasets de manera eficiente."
      ],
      "metadata": {
        "id": "DzpRwf3CczC0"
      }
    },
    {
      "cell_type": "code",
      "source": [
        "# Crear un dataset simple de ejemplo\n",
        "train_dataset = tf.data.Dataset.from_tensor_slices((tensor_vec, tensor_vec))\n",
        "train_dataset = train_dataset.shuffle(buffer_size=1024).batch(2)\n",
        "\n",
        "# Mostrar algunos ejemplos\n",
        "for x, y in train_dataset.take(1):\n",
        "    print(f\"Entrada: {x.numpy()}, Etiqueta: {y.numpy()}\")"
      ],
      "metadata": {
        "colab": {
          "base_uri": "https://localhost:8080/"
        },
        "id": "uwZlhixnc2mb",
        "outputId": "3b2f81c4-4c3b-4d5b-f2c6-515361b04e19"
      },
      "execution_count": null,
      "outputs": [
        {
          "output_type": "stream",
          "name": "stdout",
          "text": [
            "Entrada: [1 2], Etiqueta: [1 2]\n"
          ]
        }
      ]
    },
    {
      "cell_type": "markdown",
      "source": [
        "## **3. ¿Qué es una GPU y cómo usarla en TensorFlow?**\n",
        "\n",
        "Una **GPU** es una unidad de procesamiento diseñada para realizar cálculos en paralelo, lo que la hace ideal para tareas como entrenar redes neuronales.\n",
        "\n",
        "Las **CPU** están optimizadas para tareas secuenciales, mientras que las **GPU** están diseñadas para cálculos en paralelo, ideales para redes neuronales."
      ],
      "metadata": {
        "id": "tvrC-HX6c-bx"
      }
    },
    {
      "cell_type": "markdown",
      "source": [
        "\n",
        "### **3.1. Usar la GPU en TensorFlow**"
      ],
      "metadata": {
        "id": "TdgzSVG4dEYS"
      }
    },
    {
      "cell_type": "code",
      "source": [
        "# Verificar si TensorFlow está usando la GPU\n",
        "print(\"GPUs disponibles:\", tf.config.list_physical_devices('GPU'))"
      ],
      "metadata": {
        "colab": {
          "base_uri": "https://localhost:8080/"
        },
        "id": "Si8SPcv3dGY1",
        "outputId": "a9f0f183-6eb4-4ae5-d2da-bea4b813a471"
      },
      "execution_count": null,
      "outputs": [
        {
          "output_type": "stream",
          "name": "stdout",
          "text": [
            "GPUs disponibles: [PhysicalDevice(name='/physical_device:GPU:0', device_type='GPU')]\n"
          ]
        }
      ]
    },
    {
      "cell_type": "markdown",
      "source": [
        "## **4. Implementando una Red Neuronal**\n"
      ],
      "metadata": {
        "id": "KxZ1PiB-dVBG"
      }
    },
    {
      "cell_type": "markdown",
      "source": [
        "El aprendizaje de una red neuronal consiste en ajustar los pesos para minimizar el error entre la predicción y el valor real. Esto se realiza mediante el algoritmo de gradiente descendente.\n",
        "\n",
        "$ w := w - \\alpha \\nabla J(w) $\n",
        "\n",
        "Donde\n",
        "\n",
        "* $w$ son los parámetros (pesos) del modelo.\n",
        "* $\\alpha$ es la tasa de aprendizaje, un hiperparámetro que controla el tamaño de los pasos que damos para ajustar los pesos.\n",
        "* $\\nabla J(w)$ es el gradiente de la función de costo con respecto a $w$.\n"
      ],
      "metadata": {
        "id": "wRdE7kpBdcfx"
      }
    },
    {
      "cell_type": "markdown",
      "source": [
        "<img src=\"https://sebastianraschka.com/images/faq/gradient-optimization/ball.png\" width=\"700\">"
      ],
      "metadata": {
        "id": "6fVEFndKef-M"
      }
    },
    {
      "cell_type": "markdown",
      "source": [
        "Claro que a nivel matemático de las redes neuronales la funció de costo $J(w)$ es un poco más complicado que solo una parábola. Pero el análisis es similar."
      ],
      "metadata": {
        "id": "H_O3seT5ey_i"
      }
    },
    {
      "cell_type": "markdown",
      "source": [
        "De manera simple, este se implementa de la siguiente manera:"
      ],
      "metadata": {
        "id": "bikNb_KefIq-"
      }
    },
    {
      "cell_type": "markdown",
      "source": [
        "Como vimos en la parte teórica, una neurona es básicamente una suma ponderada:\n",
        "\n",
        "$ z = x \\times w + b $\n",
        "\n",
        "Que luego pasaremos por nuestra función de activación, en este caso una función de activación ReLU que convierte en lineal lo mayor a 0"
      ],
      "metadata": {
        "id": "rguOr2iOfzhW"
      }
    },
    {
      "cell_type": "code",
      "source": [
        "import numpy as np\n",
        "\n",
        "# Simulación de una red con una capa\n",
        "def simple_neuron(input_data, weight, bias):\n",
        "  z = np.dot(input_data, weight) + bias\n",
        "  return np.maximum(0, z)  # Función ReLU"
      ],
      "metadata": {
        "id": "41m129Ccdn7n"
      },
      "execution_count": null,
      "outputs": []
    },
    {
      "cell_type": "markdown",
      "source": [
        "Asumimos valores iniciales arbitrarios con pesos de 0.5 y -0.5:\n",
        "\n",
        "$w = [0.5 , -0.5]$ y $b = [1.0] $"
      ],
      "metadata": {
        "id": "qgTqfy_tfeLP"
      }
    },
    {
      "cell_type": "code",
      "source": [
        "# Datos de entrada, pesos y sesgo\n",
        "input_data = np.array([1, 2])\n",
        "weight = np.array([0.5, -0.5])\n",
        "bias = 1.0"
      ],
      "metadata": {
        "id": "JQkj4o9OdqHO"
      },
      "execution_count": null,
      "outputs": []
    },
    {
      "cell_type": "code",
      "source": [
        "# Salida antes del ajuste de pesos\n",
        "output = simple_neuron(input_data, weight, bias)\n",
        "print(\"Salida inicial de la neurona:\", output)"
      ],
      "metadata": {
        "colab": {
          "base_uri": "https://localhost:8080/"
        },
        "id": "o8ExJj09dsIj",
        "outputId": "df0f5264-41f7-463c-a2d0-07ad3ffb2399"
      },
      "execution_count": null,
      "outputs": [
        {
          "output_type": "stream",
          "name": "stdout",
          "text": [
            "Salida inicial de la neurona: 0.5\n"
          ]
        }
      ]
    },
    {
      "cell_type": "code",
      "source": [
        "# Simulación de ajuste de peso con gradiente descendente\n",
        "learning_rate = 0.01\n",
        "error = output - np.array([1, 1])  # Suponiendo la salida deseada es [1, 1]\n",
        "weight -= learning_rate * error\n",
        "print(\"Pesos ajustados:\", weight)"
      ],
      "metadata": {
        "colab": {
          "base_uri": "https://localhost:8080/"
        },
        "id": "9i1U-bS9dvqX",
        "outputId": "847071e8-abfc-467a-8860-4b1056888a21"
      },
      "execution_count": null,
      "outputs": [
        {
          "output_type": "stream",
          "name": "stdout",
          "text": [
            "Pesos ajustados: [ 0.505 -0.495]\n"
          ]
        }
      ]
    },
    {
      "cell_type": "code",
      "source": [
        "output = simple_neuron(input_data, weight, bias)\n",
        "print(\"Salida después del ajuste de pesos:\", output)"
      ],
      "metadata": {
        "colab": {
          "base_uri": "https://localhost:8080/"
        },
        "id": "BRyfStbiuiqQ",
        "outputId": "cba5f7cf-b63b-49bb-d77d-e983615f5e78"
      },
      "execution_count": null,
      "outputs": [
        {
          "output_type": "stream",
          "name": "stdout",
          "text": [
            "Salida después del ajuste de pesos: 0.515\n"
          ]
        }
      ]
    },
    {
      "cell_type": "markdown",
      "source": [
        "### **4.1. Algoritmo de Backpropagation**\n",
        "\n",
        "Pero aquello no era suficiente, pues el ajustar los pesos de una capa, implicaba también ajusta los pesos de las siguientes capas, lo cual lo volvía una tarea muy complicada de ejecutar. El algoritmo de **backpropagation** (retropropagación) fue desarrollado en los años 80 y revolucionó el entrenamiento de redes neuronales, permitiendo ajustar los pesos de todas las capas de la red de manera eficiente.\n"
      ],
      "metadata": {
        "id": "nQIL04PQglKy"
      }
    },
    {
      "cell_type": "markdown",
      "source": [
        "<img src=\"https://editor.analyticsvidhya.com/uploads/18870backprop2.png\" width=\"700\">"
      ],
      "metadata": {
        "id": "zv6VdAF9g655"
      }
    },
    {
      "cell_type": "markdown",
      "source": [
        "## **5. Introducción a Keras y el Modelo de Clasificación con MNIST**\n"
      ],
      "metadata": {
        "id": "BMqyJtB4hv-z"
      }
    },
    {
      "cell_type": "markdown",
      "source": [
        "**MNIST** es un conjunto de datos que contiene imágenes de dígitos escritos a mano (0-9). Se utiliza frecuentemente como referencia para entrenar modelos de clasificación."
      ],
      "metadata": {
        "id": "yKA9olxyhxss"
      }
    },
    {
      "cell_type": "markdown",
      "source": [
        "### **5.1. Implementación de una Red Neuronal para Clasificación con MNIST**\n",
        "Usaremos **Keras**, una API de alto nivel en TensorFlow, para implementar una red neuronal simple."
      ],
      "metadata": {
        "id": "6dHHMMWRh0KJ"
      }
    },
    {
      "cell_type": "code",
      "source": [
        "# Cargar y normalizar el dataset MNIST\n",
        "from tensorflow.keras.datasets import mnist\n",
        "(x_train, y_train), (x_test, y_test) = mnist.load_data()"
      ],
      "metadata": {
        "id": "6OMNA4cGh270"
      },
      "execution_count": null,
      "outputs": []
    },
    {
      "cell_type": "code",
      "source": [
        "x_train = x_train / 255.0\n",
        "x_test = x_test / 255.0"
      ],
      "metadata": {
        "id": "oKJf2GE7h5nm"
      },
      "execution_count": null,
      "outputs": []
    },
    {
      "cell_type": "code",
      "source": [
        "# Crear el modelo con Keras\n",
        "from tensorflow.keras.models import Sequential\n",
        "from tensorflow.keras.layers import Dense, Flatten\n",
        "\n",
        "model = Sequential([\n",
        "    Flatten(input_shape=(28, 28)),  # Aplanar las imágenes\n",
        "    Dense(128, activation='relu'),  # Capa oculta\n",
        "    Dense(10)  # Capa de salida con 10 clases\n",
        "])"
      ],
      "metadata": {
        "id": "4253sHoeh8-j"
      },
      "execution_count": null,
      "outputs": []
    },
    {
      "cell_type": "code",
      "source": [
        "model.summary()"
      ],
      "metadata": {
        "colab": {
          "base_uri": "https://localhost:8080/",
          "height": 225
        },
        "id": "PNFgNkWQwSgy",
        "outputId": "fb5d9ae0-e8ae-4aa1-8dc2-084b95d508cb"
      },
      "execution_count": null,
      "outputs": [
        {
          "output_type": "display_data",
          "data": {
            "text/plain": [
              "\u001b[1mModel: \"sequential_1\"\u001b[0m\n"
            ],
            "text/html": [
              "<pre style=\"white-space:pre;overflow-x:auto;line-height:normal;font-family:Menlo,'DejaVu Sans Mono',consolas,'Courier New',monospace\"><span style=\"font-weight: bold\">Model: \"sequential_1\"</span>\n",
              "</pre>\n"
            ]
          },
          "metadata": {}
        },
        {
          "output_type": "display_data",
          "data": {
            "text/plain": [
              "┏━━━━━━━━━━━━━━━━━━━━━━━━━━━━━━━━━━━━━━┳━━━━━━━━━━━━━━━━━━━━━━━━━━━━━┳━━━━━━━━━━━━━━━━━┓\n",
              "┃\u001b[1m \u001b[0m\u001b[1mLayer (type)                        \u001b[0m\u001b[1m \u001b[0m┃\u001b[1m \u001b[0m\u001b[1mOutput Shape               \u001b[0m\u001b[1m \u001b[0m┃\u001b[1m \u001b[0m\u001b[1m        Param #\u001b[0m\u001b[1m \u001b[0m┃\n",
              "┡━━━━━━━━━━━━━━━━━━━━━━━━━━━━━━━━━━━━━━╇━━━━━━━━━━━━━━━━━━━━━━━━━━━━━╇━━━━━━━━━━━━━━━━━┩\n",
              "│ flatten_1 (\u001b[38;5;33mFlatten\u001b[0m)                  │ (\u001b[38;5;45mNone\u001b[0m, \u001b[38;5;34m784\u001b[0m)                 │               \u001b[38;5;34m0\u001b[0m │\n",
              "├──────────────────────────────────────┼─────────────────────────────┼─────────────────┤\n",
              "│ dense_2 (\u001b[38;5;33mDense\u001b[0m)                      │ (\u001b[38;5;45mNone\u001b[0m, \u001b[38;5;34m128\u001b[0m)                 │         \u001b[38;5;34m100,480\u001b[0m │\n",
              "├──────────────────────────────────────┼─────────────────────────────┼─────────────────┤\n",
              "│ dense_3 (\u001b[38;5;33mDense\u001b[0m)                      │ (\u001b[38;5;45mNone\u001b[0m, \u001b[38;5;34m10\u001b[0m)                  │           \u001b[38;5;34m1,290\u001b[0m │\n",
              "└──────────────────────────────────────┴─────────────────────────────┴─────────────────┘\n"
            ],
            "text/html": [
              "<pre style=\"white-space:pre;overflow-x:auto;line-height:normal;font-family:Menlo,'DejaVu Sans Mono',consolas,'Courier New',monospace\">┏━━━━━━━━━━━━━━━━━━━━━━━━━━━━━━━━━━━━━━┳━━━━━━━━━━━━━━━━━━━━━━━━━━━━━┳━━━━━━━━━━━━━━━━━┓\n",
              "┃<span style=\"font-weight: bold\"> Layer (type)                         </span>┃<span style=\"font-weight: bold\"> Output Shape                </span>┃<span style=\"font-weight: bold\">         Param # </span>┃\n",
              "┡━━━━━━━━━━━━━━━━━━━━━━━━━━━━━━━━━━━━━━╇━━━━━━━━━━━━━━━━━━━━━━━━━━━━━╇━━━━━━━━━━━━━━━━━┩\n",
              "│ flatten_1 (<span style=\"color: #0087ff; text-decoration-color: #0087ff\">Flatten</span>)                  │ (<span style=\"color: #00d7ff; text-decoration-color: #00d7ff\">None</span>, <span style=\"color: #00af00; text-decoration-color: #00af00\">784</span>)                 │               <span style=\"color: #00af00; text-decoration-color: #00af00\">0</span> │\n",
              "├──────────────────────────────────────┼─────────────────────────────┼─────────────────┤\n",
              "│ dense_2 (<span style=\"color: #0087ff; text-decoration-color: #0087ff\">Dense</span>)                      │ (<span style=\"color: #00d7ff; text-decoration-color: #00d7ff\">None</span>, <span style=\"color: #00af00; text-decoration-color: #00af00\">128</span>)                 │         <span style=\"color: #00af00; text-decoration-color: #00af00\">100,480</span> │\n",
              "├──────────────────────────────────────┼─────────────────────────────┼─────────────────┤\n",
              "│ dense_3 (<span style=\"color: #0087ff; text-decoration-color: #0087ff\">Dense</span>)                      │ (<span style=\"color: #00d7ff; text-decoration-color: #00d7ff\">None</span>, <span style=\"color: #00af00; text-decoration-color: #00af00\">10</span>)                  │           <span style=\"color: #00af00; text-decoration-color: #00af00\">1,290</span> │\n",
              "└──────────────────────────────────────┴─────────────────────────────┴─────────────────┘\n",
              "</pre>\n"
            ]
          },
          "metadata": {}
        },
        {
          "output_type": "display_data",
          "data": {
            "text/plain": [
              "\u001b[1m Total params: \u001b[0m\u001b[38;5;34m101,770\u001b[0m (397.54 KB)\n"
            ],
            "text/html": [
              "<pre style=\"white-space:pre;overflow-x:auto;line-height:normal;font-family:Menlo,'DejaVu Sans Mono',consolas,'Courier New',monospace\"><span style=\"font-weight: bold\"> Total params: </span><span style=\"color: #00af00; text-decoration-color: #00af00\">101,770</span> (397.54 KB)\n",
              "</pre>\n"
            ]
          },
          "metadata": {}
        },
        {
          "output_type": "display_data",
          "data": {
            "text/plain": [
              "\u001b[1m Trainable params: \u001b[0m\u001b[38;5;34m101,770\u001b[0m (397.54 KB)\n"
            ],
            "text/html": [
              "<pre style=\"white-space:pre;overflow-x:auto;line-height:normal;font-family:Menlo,'DejaVu Sans Mono',consolas,'Courier New',monospace\"><span style=\"font-weight: bold\"> Trainable params: </span><span style=\"color: #00af00; text-decoration-color: #00af00\">101,770</span> (397.54 KB)\n",
              "</pre>\n"
            ]
          },
          "metadata": {}
        },
        {
          "output_type": "display_data",
          "data": {
            "text/plain": [
              "\u001b[1m Non-trainable params: \u001b[0m\u001b[38;5;34m0\u001b[0m (0.00 B)\n"
            ],
            "text/html": [
              "<pre style=\"white-space:pre;overflow-x:auto;line-height:normal;font-family:Menlo,'DejaVu Sans Mono',consolas,'Courier New',monospace\"><span style=\"font-weight: bold\"> Non-trainable params: </span><span style=\"color: #00af00; text-decoration-color: #00af00\">0</span> (0.00 B)\n",
              "</pre>\n"
            ]
          },
          "metadata": {}
        }
      ]
    },
    {
      "cell_type": "code",
      "source": [
        "# Compilar el modelo\n",
        "model.compile(optimizer='adam',\n",
        "              loss=tf.keras.losses.SparseCategoricalCrossentropy(from_logits=True),\n",
        "              metrics=['accuracy'])"
      ],
      "metadata": {
        "id": "STHaxNNNh_hD"
      },
      "execution_count": null,
      "outputs": []
    },
    {
      "cell_type": "code",
      "source": [
        "# Entrenar el modelo\n",
        "model.fit(x_train, y_train, epochs=5)"
      ],
      "metadata": {
        "colab": {
          "base_uri": "https://localhost:8080/"
        },
        "id": "g8hdMvs3iBO0",
        "outputId": "3432a80c-067b-41b4-ca8d-8ef4aebab61c"
      },
      "execution_count": null,
      "outputs": [
        {
          "output_type": "stream",
          "name": "stdout",
          "text": [
            "Epoch 1/5\n",
            "\u001b[1m1875/1875\u001b[0m \u001b[32m━━━━━━━━━━━━━━━━━━━━\u001b[0m\u001b[37m\u001b[0m \u001b[1m4s\u001b[0m 2ms/step - accuracy: 0.5652 - loss: 1.6588\n",
            "Epoch 2/5\n",
            "\u001b[1m1875/1875\u001b[0m \u001b[32m━━━━━━━━━━━━━━━━━━━━\u001b[0m\u001b[37m\u001b[0m \u001b[1m4s\u001b[0m 2ms/step - accuracy: 0.8627 - loss: 0.5324\n",
            "Epoch 3/5\n",
            "\u001b[1m1875/1875\u001b[0m \u001b[32m━━━━━━━━━━━━━━━━━━━━\u001b[0m\u001b[37m\u001b[0m \u001b[1m5s\u001b[0m 2ms/step - accuracy: 0.8921 - loss: 0.3943\n",
            "Epoch 4/5\n",
            "\u001b[1m1875/1875\u001b[0m \u001b[32m━━━━━━━━━━━━━━━━━━━━\u001b[0m\u001b[37m\u001b[0m \u001b[1m5s\u001b[0m 2ms/step - accuracy: 0.9028 - loss: 0.3454\n",
            "Epoch 5/5\n",
            "\u001b[1m1875/1875\u001b[0m \u001b[32m━━━━━━━━━━━━━━━━━━━━\u001b[0m\u001b[37m\u001b[0m \u001b[1m5s\u001b[0m 2ms/step - accuracy: 0.9096 - loss: 0.3169\n"
          ]
        },
        {
          "output_type": "execute_result",
          "data": {
            "text/plain": [
              "<keras.src.callbacks.history.History at 0x7cffce207340>"
            ]
          },
          "metadata": {},
          "execution_count": 37
        }
      ]
    },
    {
      "cell_type": "markdown",
      "source": [
        "### **5.2. Evaluación del Modelo**"
      ],
      "metadata": {
        "id": "eRV3LXMhiKYc"
      }
    },
    {
      "cell_type": "code",
      "source": [
        "# Evaluar el modelo\n",
        "test_loss, test_acc = model.evaluate(x_test, y_test, verbose=2)\n",
        "print('Precisión en el conjunto de prueba:', test_acc)"
      ],
      "metadata": {
        "colab": {
          "base_uri": "https://localhost:8080/"
        },
        "id": "dbGfSdUiiJPi",
        "outputId": "90b2a08c-3ecb-4c67-ea05-27451f3e780d"
      },
      "execution_count": null,
      "outputs": [
        {
          "output_type": "stream",
          "name": "stdout",
          "text": [
            "313/313 - 1s - 3ms/step - accuracy: 0.9160 - loss: 0.2981\n",
            "Precisión en el conjunto de prueba: 0.9160000085830688\n"
          ]
        }
      ]
    },
    {
      "cell_type": "markdown",
      "source": [
        "## **6. Limitaciones de las Redes Neuronales en Imágenes**"
      ],
      "metadata": {
        "id": "GKDJvj3YiNEh"
      }
    },
    {
      "cell_type": "markdown",
      "source": [
        "### **6.1. Limitaciones de las ANN en Imágenes**\n",
        "Las redes neuronales tradicionales, como las que acabamos de implementar, tienen dificultades para procesar imágenes. Esto se debe a que no capturan las **relaciones espaciales** entre los píxeles. Veamos esto con un ejemplo."
      ],
      "metadata": {
        "id": "pPU5cw6PiOcp"
      }
    },
    {
      "cell_type": "code",
      "source": [
        "# Ver cómo una red neuronal trata cada píxel de manera individual\n",
        "import matplotlib.pyplot as plt\n",
        "\n",
        "# Mostrar una imagen del dataset MNIST\n",
        "plt.imshow(x_train[0], cmap='gray')\n",
        "plt.title(\"Imagen de ejemplo del conjunto MNIST\")\n",
        "plt.show()\n",
        "\n",
        "# Aplanar la imagen y pasarla por la red (sin considerar la estructura espacial)\n",
        "prediction = model.predict(x_train[0].reshape(1, 28, 28))\n",
        "print(\"Predicción para la imagen aplanada:\", prediction.argmax())"
      ],
      "metadata": {
        "colab": {
          "base_uri": "https://localhost:8080/",
          "height": 487
        },
        "id": "3u90UaPkiQ8y",
        "outputId": "6f6750bb-5167-4d5e-bd2f-55891a05f097"
      },
      "execution_count": null,
      "outputs": [
        {
          "output_type": "display_data",
          "data": {
            "text/plain": [
              "<Figure size 640x480 with 1 Axes>"
            ],
            "image/png": "[encoded data removed]"
          },
          "metadata": {}
        },
        {
          "output_type": "stream",
          "name": "stdout",
          "text": [
            "\u001b[1m1/1\u001b[0m \u001b[32m━━━━━━━━━━━━━━━━━━━━\u001b[0m\u001b[37m\u001b[0m \u001b[1m0s\u001b[0m 329ms/step\n",
            "Predicción para la imagen aplanada: 5\n"
          ]
        }
      ]
    },
    {
      "cell_type": "markdown",
      "source": [
        "El modelo trata cada píxel de la imagen de forma independiente. Aunque la red puede aprender a clasificar, no está aprovechando la **estructura espacial** de la imagen, lo que limita su capacidad."
      ],
      "metadata": {
        "id": "byE6rL9piciq"
      }
    },
    {
      "cell_type": "code",
      "source": [
        "# Ver cómo el aplanamiento pierde la estructura de la imagen\n",
        "flattened_image = x_train[0].reshape(-1)\n",
        "print(\"Imagen aplanada (primeros 200 valores):\", flattened_image[:200])"
      ],
      "metadata": {
        "colab": {
          "base_uri": "https://localhost:8080/"
        },
        "id": "SwQc3QWsic96",
        "outputId": "7249198e-abc9-4d1c-a929-32ebe71d1a59"
      },
      "execution_count": null,
      "outputs": [
        {
          "output_type": "stream",
          "name": "stdout",
          "text": [
            "Imagen aplanada (primeros 200 valores): [0.00000000e+00 0.00000000e+00 0.00000000e+00 0.00000000e+00\n",
            " 0.00000000e+00 0.00000000e+00 0.00000000e+00 0.00000000e+00\n",
            " 0.00000000e+00 0.00000000e+00 0.00000000e+00 0.00000000e+00\n",
            " 0.00000000e+00 0.00000000e+00 0.00000000e+00 0.00000000e+00\n",
            " 0.00000000e+00 0.00000000e+00 0.00000000e+00 0.00000000e+00\n",
            " 0.00000000e+00 0.00000000e+00 0.00000000e+00 0.00000000e+00\n",
            " 0.00000000e+00 0.00000000e+00 0.00000000e+00 0.00000000e+00\n",
            " 0.00000000e+00 0.00000000e+00 0.00000000e+00 0.00000000e+00\n",
            " 0.00000000e+00 0.00000000e+00 0.00000000e+00 0.00000000e+00\n",
            " 0.00000000e+00 0.00000000e+00 0.00000000e+00 0.00000000e+00\n",
            " 0.00000000e+00 0.00000000e+00 0.00000000e+00 0.00000000e+00\n",
            " 0.00000000e+00 0.00000000e+00 0.00000000e+00 0.00000000e+00\n",
            " 0.00000000e+00 0.00000000e+00 0.00000000e+00 0.00000000e+00\n",
            " 0.00000000e+00 0.00000000e+00 0.00000000e+00 0.00000000e+00\n",
            " 0.00000000e+00 0.00000000e+00 0.00000000e+00 0.00000000e+00\n",
            " 0.00000000e+00 0.00000000e+00 0.00000000e+00 0.00000000e+00\n",
            " 0.00000000e+00 0.00000000e+00 0.00000000e+00 0.00000000e+00\n",
            " 0.00000000e+00 0.00000000e+00 0.00000000e+00 0.00000000e+00\n",
            " 0.00000000e+00 0.00000000e+00 0.00000000e+00 0.00000000e+00\n",
            " 0.00000000e+00 0.00000000e+00 0.00000000e+00 0.00000000e+00\n",
            " 0.00000000e+00 0.00000000e+00 0.00000000e+00 0.00000000e+00\n",
            " 0.00000000e+00 0.00000000e+00 0.00000000e+00 0.00000000e+00\n",
            " 0.00000000e+00 0.00000000e+00 0.00000000e+00 0.00000000e+00\n",
            " 0.00000000e+00 0.00000000e+00 0.00000000e+00 0.00000000e+00\n",
            " 0.00000000e+00 0.00000000e+00 0.00000000e+00 0.00000000e+00\n",
            " 0.00000000e+00 0.00000000e+00 0.00000000e+00 0.00000000e+00\n",
            " 0.00000000e+00 0.00000000e+00 0.00000000e+00 0.00000000e+00\n",
            " 0.00000000e+00 0.00000000e+00 0.00000000e+00 0.00000000e+00\n",
            " 0.00000000e+00 0.00000000e+00 0.00000000e+00 0.00000000e+00\n",
            " 0.00000000e+00 0.00000000e+00 0.00000000e+00 0.00000000e+00\n",
            " 0.00000000e+00 0.00000000e+00 0.00000000e+00 0.00000000e+00\n",
            " 0.00000000e+00 0.00000000e+00 0.00000000e+00 0.00000000e+00\n",
            " 0.00000000e+00 0.00000000e+00 0.00000000e+00 0.00000000e+00\n",
            " 0.00000000e+00 0.00000000e+00 0.00000000e+00 0.00000000e+00\n",
            " 0.00000000e+00 0.00000000e+00 0.00000000e+00 0.00000000e+00\n",
            " 0.00000000e+00 0.00000000e+00 0.00000000e+00 0.00000000e+00\n",
            " 0.00000000e+00 0.00000000e+00 0.00000000e+00 0.00000000e+00\n",
            " 0.00000000e+00 0.00000000e+00 0.00000000e+00 0.00000000e+00\n",
            " 4.61361015e-05 2.76816609e-04 2.76816609e-04 2.76816609e-04\n",
            " 1.93771626e-03 2.09150327e-03 2.69127259e-03 3.99846213e-04\n",
            " 2.55286428e-03 3.92156863e-03 3.79853902e-03 1.95309496e-03\n",
            " 0.00000000e+00 0.00000000e+00 0.00000000e+00 0.00000000e+00\n",
            " 0.00000000e+00 0.00000000e+00 0.00000000e+00 0.00000000e+00\n",
            " 0.00000000e+00 0.00000000e+00 0.00000000e+00 0.00000000e+00\n",
            " 4.61361015e-04 5.53633218e-04 1.44559785e-03 2.36831988e-03\n",
            " 2.61437908e-03 3.89081123e-03 3.89081123e-03 3.89081123e-03\n",
            " 3.89081123e-03 3.89081123e-03 3.46020761e-03 2.64513649e-03\n",
            " 3.89081123e-03 3.72164552e-03 2.99884660e-03 9.84236832e-04\n",
            " 0.00000000e+00 0.00000000e+00 0.00000000e+00 0.00000000e+00\n",
            " 0.00000000e+00 0.00000000e+00 0.00000000e+00 0.00000000e+00]\n"
          ]
        }
      ]
    },
    {
      "cell_type": "markdown",
      "source": [
        "Al tratar los píxeles de manera independiente, la red no puede detectar patrones espaciales como bordes o formas, lo que es fundamental para el procesamiento eficiente de imágenes."
      ],
      "metadata": {
        "id": "hXB_IkOkb8Cm"
      }
    },
    {
      "cell_type": "markdown",
      "source": [
        "\n",
        "## **Ejercicio 1: Clasificación de Imágenes utilizando el Dataset Fashion MNIST**\n",
        "\n",
        "### **Objetivo:**\n",
        "En este ejercicio, trabajarás con el dataset **Fashion MNIST** para clasificar imágenes de prendas de ropa utilizando una red neuronal con TensorFlow y Keras. Además, investigarás las funciones de activación disponibles en Keras y cómo afectan al rendimiento del modelo. Al final, reflexionarás sobre los resultados obtenidos y las posibles mejoras.\n",
        "\n",
        "### **Instrucciones:**\n",
        "\n",
        "1. **Descripción del Dataset:**\n",
        "   - **Fashion MNIST** es un dataset similar a MNIST pero contiene imágenes de 10 categorías de ropa en lugar de dígitos. Cada imagen es en escala de grises con tamaño 28x28 píxeles.\n",
        "   - El dataset ya está disponible en TensorFlow y puede cargarse de la misma manera que MNIST.\n",
        "   \n",
        "2. **Carga y Preprocesamiento de Datos:**\n",
        "   - Carga el dataset Fashion MNIST usando TensorFlow:\n",
        "     ```python\n",
        "     from tensorflow.keras.datasets import fashion_mnist\n",
        "     (x_train, y_train), (x_test, y_test) = fashion_mnist.load_data()\n",
        "     ```\n",
        "   - Normaliza los valores de los píxeles para que estén en el rango de [0, 1]:\n",
        "     ```python\n",
        "     x_train = x_train / 255.0\n",
        "     x_test = x_test / 255.0\n",
        "     ```\n",
        "\n",
        "3. **Definición del Modelo:**\n",
        "   - Define una red neuronal con Keras que incluya:\n",
        "     - Una capa de entrada que aplane las imágenes.\n",
        "     - Al menos una capa oculta con 128 neuronas y la función de activación `ReLU`.\n",
        "     - Una capa de salida con 10 neuronas para clasificar las 10 categorías del dataset, utilizando Softmax para obtener probabilidades.\n",
        "   - Compila el modelo con el optimizador `adam`, la función de pérdida `SparseCategoricalCrossentropy`, y la métrica `accuracy`.\n",
        "\n",
        "4. **Entrenamiento del Modelo:**\n",
        "   - Entrena tu modelo por 5 épocas y observa los resultados:\n",
        "     ```python\n",
        "     model.fit(x_train, y_train, epochs=5)\n",
        "     ```\n",
        "\n",
        "5. **Investigación sobre las Funciones de Activación:**\n",
        "   - Investiga otras **funciones de activación** disponibles en Keras (por ejemplo, `sigmoid`, `tanh`, `softmax`) y explica brevemente en tus propias palabras cómo funcionan y cuándo es recomendable utilizarlas.\n",
        "   \n",
        "6. **Experimentación:**\n",
        "   - Modifica el modelo para usar una función de activación diferente en la capa oculta (puedes probar con `sigmoid` o `tanh` en lugar de `ReLU`).\n",
        "   - Entrena nuevamente el modelo con esta nueva función de activación y compara los resultados de precisión con el modelo original.\n",
        "\n",
        "7. **Evaluación y Reflexión:**\n",
        "   - Evalúa el modelo en el conjunto de prueba:\n",
        "     ```python\n",
        "     test_loss, test_acc = model.evaluate(x_test, y_test, verbose=2)\n",
        "     print('\\nPrecisión en el conjunto de prueba:', test_acc)\n",
        "     ```\n",
        "   - Reflexiona sobre las siguientes preguntas:\n",
        "     - ¿Cómo cambió el rendimiento del modelo al cambiar la función de activación?\n",
        "     - ¿Qué función de activación parece más adecuada para este problema y por qué?\n",
        "     - ¿Qué otras modificaciones al modelo podrías intentar para mejorar el rendimiento?\n",
        "\n",
        "### **(Opcional):**\n",
        "   - Investiga cómo implementar **Dropout** en Keras y agrégalo al modelo para evitar el sobreajuste. Entrena el modelo nuevamente y analiza los resultados.\n"
      ],
      "metadata": {
        "id": "7OoLqW2LjUTH"
      }
    },
    {
      "cell_type": "code",
      "execution_count": null,
      "metadata": {
        "id": "FApxRC0-b6Sb"
      },
      "outputs": [],
      "source": [
        "# AQUI EMPIEZA TU CODIGO\n",
        "\n"
      ]
    }
  ]
}