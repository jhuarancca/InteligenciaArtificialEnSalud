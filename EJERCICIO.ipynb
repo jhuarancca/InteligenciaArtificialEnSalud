{
  "nbformat": 4,
  "nbformat_minor": 0,
  "metadata": {
    "colab": {
      "provenance": [],
      "include_colab_link": true
    },
    "kernelspec": {
      "name": "python3",
      "display_name": "Python 3"
    },
    "language_info": {
      "name": "python"
    }
  },
  "cells": [
    {
      "cell_type": "markdown",
      "metadata": {
        "id": "view-in-github",
        "colab_type": "text"
      },
      "source": [
        "<a href=\"https://colab.research.google.com/github/jhuarancca/InteligenciaArtificialEnSalud/blob/main/EJERCICIO.ipynb\" target=\"_parent\"><img src=\"https://colab.research.google.com/assets/colab-badge.svg\" alt=\"Open In Colab\"/></a>"
      ]
    },
    {
      "cell_type": "markdown",
      "source": [
        "#Ejemplo 1\n"
      ],
      "metadata": {
        "id": "1gR8H38m_J64"
      }
    },
    {
      "cell_type": "code",
      "execution_count": null,
      "metadata": {
        "colab": {
          "base_uri": "https://localhost:8080/"
        },
        "id": "DEZr_loo9aVO",
        "outputId": "3242d569-f5e0-46b4-c65f-e5b6404f1eed"
      },
      "outputs": [
        {
          "output_type": "stream",
          "name": "stdout",
          "text": [
            "3\n"
          ]
        }
      ],
      "source": [
        "a=1\n",
        "b=2\n",
        "\n",
        "print(a+b)"
      ]
    },
    {
      "cell_type": "markdown",
      "source": [
        "Texto entre código"
      ],
      "metadata": {
        "id": "hiNRPXjw_b1M"
      }
    },
    {
      "cell_type": "code",
      "source": [
        "print('El resultado de la suma es: ', a+b)"
      ],
      "metadata": {
        "colab": {
          "base_uri": "https://localhost:8080/"
        },
        "id": "BYfLkTL-9xym",
        "outputId": "94563766-3d3d-41a8-894d-b9458969779c"
      },
      "execution_count": null,
      "outputs": [
        {
          "output_type": "stream",
          "name": "stdout",
          "text": [
            "El resultado de la suma es:  3\n"
          ]
        }
      ]
    },
    {
      "cell_type": "code",
      "source": [
        "print('El resultado de la resta es: ', a-b)"
      ],
      "metadata": {
        "colab": {
          "base_uri": "https://localhost:8080/"
        },
        "id": "mHweW2DX96eW",
        "outputId": "8058079a-1e90-4f08-811b-0de526ce3fa7"
      },
      "execution_count": null,
      "outputs": [
        {
          "output_type": "stream",
          "name": "stdout",
          "text": [
            "El resultado de la resta es:  -1\n"
          ]
        }
      ]
    },
    {
      "cell_type": "code",
      "source": [
        "# mi primer bucle for\n",
        "\n",
        "count = 0\n",
        "for i in range (10):\n",
        "  count += 1\n",
        "  print(count)\n",
        "\n",
        "#print(count)"
      ],
      "metadata": {
        "colab": {
          "base_uri": "https://localhost:8080/"
        },
        "id": "dWKZaKjp-a8P",
        "outputId": "bf6a23b6-85be-4413-92de-1c8c0e96e854"
      },
      "execution_count": null,
      "outputs": [
        {
          "output_type": "stream",
          "name": "stdout",
          "text": [
            "1\n",
            "2\n",
            "3\n",
            "4\n",
            "5\n",
            "6\n",
            "7\n",
            "8\n",
            "9\n",
            "10\n"
          ]
        }
      ]
    }
  ]
}